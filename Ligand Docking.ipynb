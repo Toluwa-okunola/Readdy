{
 "cells": [
  {
   "cell_type": "code",
   "execution_count": 1,
   "id": "5b77cf55",
   "metadata": {},
   "outputs": [],
   "source": [
    "import os\n",
    "import numpy as np\n",
    "import matplotlib.pyplot as plt\n",
    "import readdy"
   ]
  },
  {
   "cell_type": "code",
   "execution_count": 2,
   "id": "62470f8e",
   "metadata": {},
   "outputs": [],
   "source": [
    "system = readdy.ReactionDiffusionSystem([10.,10.,3], temperature=300.*readdy.units.kelvin, periodic_boundary_conditions=[False, False, False])\n",
    "\n",
    "\n",
    "\n",
    "system.add_topology_species(\"R\", diffusion_constant=0.1)\n",
    "system.add_topology_species(\"L\", diffusion_constant=2)\n",
    "system.add_topology_species(\"A\", diffusion_constant=0.1)\n",
    "\n",
    "lambda_on = 10.\n",
    "\n"
   ]
  },
  {
   "cell_type": "code",
   "execution_count": 3,
   "id": "1589898b",
   "metadata": {},
   "outputs": [],
   "source": [
    "system.topologies.configure_harmonic_bond(\n",
    "    \"R\", \"R\", force_constant=15, length=0.1\n",
    ")\n",
    "system.topologies.configure_harmonic_bond(\n",
    "    \"L\", \"A\", force_constant=50, length=0.1\n",
    ")\n",
    "\n",
    "#system.topologies.configure_harmonic_bond(\n",
    "    #\"A\", \"R\", force_constant=15, length=0.1\n",
    "#)\n",
    "\n",
    "\n",
    "#for i in range(10):\n",
    "system.topologies.add_type(\"Single\")\n",
    "\n",
    "system.topologies.add_type(\"Act\")\n",
    "\n",
    "system.topologies.add_type(\"Act2\")\n",
    "\n",
    "system.topologies.add_type(\"Ligand\")\n",
    "\n",
    "system.topologies.add_type(\"Double\")\n",
    "\n",
    "\n",
    "\n",
    "\n",
    "system.topologies.add_spatial_reaction(\n",
    "'Reacton1: Single (R)+Single (R) -> Double (R--R) [self=true]', rate=0.2, radius=10.)\n",
    "\n",
    "\n",
    "system.topologies.add_spatial_reaction('Reaction2: Single(R)+Ligand(L) -> Act(A--L)', rate=0.1, radius=10.)\n",
    "\n",
    "#system.topologies.add_spatial_reaction('Reaction3: Act(A)+Single(R) -> Act(A--R)', rate=20., radius=8.)"
   ]
  },
  {
   "cell_type": "code",
   "execution_count": 4,
   "id": "2f7fca03",
   "metadata": {},
   "outputs": [],
   "source": [
    "def convert(topology):\n",
    "    recipe = readdy.StructuralReactionRecipe(topology)\n",
    "    recipe.separate_vertex(0)\n",
    "    recipe.change_particle_type(0, \"R\")\n",
    "    \n",
    "    return recipe\n",
    "def rate(topology):\n",
    "    return 0.2\n",
    "def rate2(topology):\n",
    "    return 3\n",
    "def dis(topology):\n",
    "    recipe = readdy.StructuralReactionRecipe(topology)\n",
    "    recipe.separate_vertex(0)\n",
    "    return recipe\n",
    "\n",
    "system.topologies.add_structural_reaction(name=\"converti\", topology_type=\"Act\",\n",
    "                                          reaction_function=convert,\n",
    "                                          rate_function=rate)\n",
    "\n",
    "system.topologies.add_structural_reaction(name=\"converti2\", topology_type=\"Double\",\n",
    "                                          reaction_function=dis,\n",
    "                                          rate_function=rate2)"
   ]
  },
  {
   "cell_type": "code",
   "execution_count": 5,
   "id": "75b004b1",
   "metadata": {},
   "outputs": [],
   "source": [
    "simulation = system.simulation(kernel=\"CPU\")\n",
    "simulation.output_file = \"out.h5\"\n",
    "simulation.reaction_handler = \"Gillespie\"\n",
    "\n",
    "nr = 1\n",
    "\n",
    "\n",
    "for i in range(200):\n",
    "    pl = np.random.random(size=(1, 2)) * 10. - 5\n",
    "    a=np.random.random(size=(1, 1)) * 3. - 1.5\n",
    "    ligand_top = (simulation.add_topology(\n",
    "            topology_type = \"Ligand\",\n",
    "            particle_types=[\"L\"],\n",
    "            positions=np.append(pl, a, axis=1)\n",
    "        ))\n",
    "\n",
    "    ligand_graph =  ligand_top.get_graph()\n",
    "    for j in range(len(ligand_graph.get_vertices())-1):\n",
    "        ligand_graph.add_edge(j, j+1)\n",
    "        \n",
    "        \n",
    "\n",
    "for i in range(10):\n",
    "    double_top = (simulation.add_topology(\n",
    "\n",
    "            topology_type = \"Double\",\n",
    "            particle_types=[\"R\", \"R\"],\n",
    "            positions=np.append(np.random.random(size=(2, 2)) * 10. - 5, (-1.5*np.ones((2, 1))), axis=1)\n",
    "        ))\n",
    "\n",
    "    double_graph =  double_top.get_graph()\n",
    "    for j in range(len(double_graph.get_vertices())-1):\n",
    "        double_graph.add_edge(j, j+1)\n",
    "\n",
    "for i in range(1):    \n",
    "    Act_top = (simulation.add_topology(\n",
    "\n",
    "                topology_type = \"Act\",\n",
    "                particle_types=[\"A\", \"L\"],\n",
    "                positions=np.append(np.random.random(size=(2, 2)) * 10. - 5, (-1.5*np.ones((2, 1))), axis=1)\n",
    "                ))\n",
    "\n",
    "    Act_graph =  Act_top.get_graph()\n",
    "    for j in range(len(Act_graph.get_vertices())-1):\n",
    "        Act_graph.add_edge(j, j+1)\n",
    "        \n",
    "for i in range(0):\n",
    "    Act2_top = (simulation.add_topology(\n",
    "\n",
    "                topology_type = \"Act2\",\n",
    "                particle_types=[\"L\", \"A\", \"R\"],\n",
    "                positions=np.append(np.random.random(size=(3, 2)) * 10. - 5, (-1.5*np.ones((3, 1))), axis=1)\n",
    "                ))\n",
    "\n",
    "    Act2_graph =  Act2_top.get_graph()\n",
    "    Act2_graph.add_edge(0,1)\n",
    "    Act2_graph.add_edge(2,1)\n",
    "        \n",
    "my_topology=[]\n",
    "my_graph = []\n",
    "\n",
    "for i in range(100):\n",
    "    pr = np.random.random(size=(int(nr), 2)) * 10. - 5\n",
    "    my_topology.append(simulation.add_topology(\n",
    "\n",
    "        topology_type = \"Single\",\n",
    "        particle_types=[\"R\"],\n",
    "        positions=np.append(pr, (-1.5*np.ones((nr, 1))), axis=1)\n",
    "    ))\n",
    "\n",
    "    my_graph.append(my_topology[i].get_graph())\n",
    "    for j in range(len(my_graph[i].get_vertices())-1):\n",
    "        my_graph[i].add_edge(j, j+1)\n",
    "\n",
    "simulation.observe.number_of_particles(\n",
    "    stride=10,\n",
    "    types=[\"R\", \"L\", \"A\"],\n",
    "    callback=lambda x: print(x)\n",
    ")\n",
    "\n",
    "simulation.record_trajectory()"
   ]
  },
  {
   "cell_type": "code",
   "execution_count": 6,
   "id": "6387db3d",
   "metadata": {},
   "outputs": [
    {
     "name": "stdout",
     "output_type": "stream",
     "text": [
      "Configured kernel context with:\n",
      "--------------------------------\n",
      " - kBT = 2.4943390049691634\n",
      " - periodic b.c. = (false, false, false)\n",
      " - box size = (10, 10, 3)\n",
      " - particle types:\n",
      "     * Topology particle type \"A\" with D=0.1\n",
      "     * Topology particle type \"L\" with D=2\n",
      "     * Topology particle type \"R\" with D=0.1\n",
      " - topology potential configuration:\n",
      "     - bonds (2):\n",
      "         - Bonds for particle types L and A:\n",
      "             * Harmonic bond with force constant 50 and length 0.1\n",
      "         - Bonds for particle types R and R:\n",
      "             * Harmonic bond with force constant 15 and length 0.1\n",
      " - topology types:\n",
      "     * topology type \"Single\" with 0 structural reactions\n",
      "     * topology type \"Act\" with 1 structural reactions\n",
      "     * topology type \"Act2\" with 0 structural reactions\n",
      "     * topology type \"Ligand\" with 0 structural reactions\n",
      "     * topology type \"Double\" with 1 structural reactions\n",
      " - spatial topology reactions:\n",
      "     * Topology-topology fusion reaction \"Reaction2: Single(R) + Ligand(L) -> Act(A--L)\"\n",
      "     * Topology-topology fusion reaction, distance > 0 \"Reacton1: Single(R) + Single(R) -> Double(R--R) [self=true]\"\n",
      " - structural topology reactions:\n",
      "     - for topology type \"Act\" with 1 structural reactions:\n",
      "         * reaction with create child topologies = true\n",
      "     - for topology type \"Double\" with 1 structural reactions:\n",
      "         * reaction with create child topologies = true\n",
      "\n",
      "Configured simulation loop with:\n",
      "--------------------------------\n",
      " - timeStep = 0.001\n",
      " - evaluateObservables = true\n",
      " - progressOutputStride = 100\n",
      " - context written to file = true\n",
      " - Performing actions:\n",
      "   * Initialize neighbor list? true\n",
      "   * Update neighbor list? true\n",
      "   * Clear neighbor list? true\n",
      "   * Integrate diffusion? true\n",
      "   * Calculate forces? true\n",
      "   * Handle reactions? true\n",
      "   * Handle topology reactions? true\n",
      "\n"
     ]
    },
    {
     "name": "stderr",
     "output_type": "stream",
     "text": [
      "\r",
      "  0%|                                                   | 0/500 [00:00<?, ?it/s]"
     ]
    },
    {
     "name": "stdout",
     "output_type": "stream",
     "text": [
      "[120, 201, 1]\n"
     ]
    },
    {
     "name": "stderr",
     "output_type": "stream",
     "text": [
      "  0%|▏                                          | 2/500 [00:00<02:33,  3.24it/s]"
     ]
    },
    {
     "name": "stdout",
     "output_type": "stream",
     "text": [
      "[109, 201, 12]\n",
      "[107, 201, 14]\n"
     ]
    },
    {
     "name": "stderr",
     "output_type": "stream",
     "text": [
      "  1%|▍                                          | 5/500 [00:00<01:07,  7.35it/s]"
     ]
    },
    {
     "name": "stdout",
     "output_type": "stream",
     "text": [
      "[103, 201, 18]\n",
      "[101, 201, 20]\n",
      "[95, 201, 26]\n",
      "[95, 201, 26]\n"
     ]
    },
    {
     "name": "stderr",
     "output_type": "stream",
     "text": [
      "  2%|▊                                         | 10/500 [00:01<00:34, 14.38it/s]"
     ]
    },
    {
     "name": "stdout",
     "output_type": "stream",
     "text": [
      "[91, 201, 30]\n",
      "[87, 200, 35]\n",
      "[85, 200, 37]\n",
      "[85, 200, 37]\n",
      "[84, 200, 38]\n",
      "[82, 200, 40]\n"
     ]
    },
    {
     "name": "stderr",
     "output_type": "stream",
     "text": [
      "  3%|█▍                                        | 17/500 [00:01<00:20, 23.16it/s]"
     ]
    },
    {
     "name": "stdout",
     "output_type": "stream",
     "text": [
      "[81, 200, 41]\n",
      "[80, 199, 43]\n",
      "[80, 199, 43]\n",
      "[80, 199, 43]\n",
      "[80, 199, 43]\n",
      "[79, 199, 44]\n",
      "[79, 199, 44]\n",
      "[77, 199, 46]\n"
     ]
    },
    {
     "name": "stderr",
     "output_type": "stream",
     "text": [
      "  5%|██▏                                       | 26/500 [00:01<00:14, 32.31it/s]"
     ]
    },
    {
     "name": "stdout",
     "output_type": "stream",
     "text": [
      "[77, 199, 46]\n",
      "[76, 199, 47]\n",
      "[76, 199, 47]\n",
      "[75, 199, 48]\n",
      "[73, 199, 50]\n",
      "[72, 199, 51]\n",
      "[72, 199, 51]\n",
      "[72, 199, 51]\n",
      "[72, 199, 51]\n",
      "[72, 199, 51]\n"
     ]
    },
    {
     "name": "stderr",
     "output_type": "stream",
     "text": [
      "  7%|███                                       | 36/500 [00:01<00:11, 39.61it/s]"
     ]
    },
    {
     "name": "stdout",
     "output_type": "stream",
     "text": [
      "[72, 199, 51]\n",
      "[72, 199, 51]\n",
      "[72, 199, 51]\n",
      "[72, 199, 51]\n",
      "[72, 199, 51]\n",
      "[71, 199, 52]\n",
      "[70, 199, 53]\n",
      "[71, 198, 53]\n",
      "[70, 198, 54]\n",
      "[70, 198, 54]\n",
      "[70, 198, 54]\n"
     ]
    },
    {
     "name": "stderr",
     "output_type": "stream",
     "text": [
      " 10%|████                                      | 48/500 [00:02<00:09, 46.28it/s]"
     ]
    },
    {
     "name": "stdout",
     "output_type": "stream",
     "text": [
      "[70, 198, 54]\n",
      "[70, 198, 54]\n",
      "[70, 198, 54]\n",
      "[70, 198, 54]\n",
      "[70, 198, 54]\n",
      "[69, 198, 55]\n",
      "[69, 198, 55]\n",
      "[69, 198, 55]\n",
      "[69, 198, 55]\n",
      "[69, 198, 55]\n",
      "[71, 196, 55]\n",
      "[71, 196, 55]\n"
     ]
    },
    {
     "name": "stderr",
     "output_type": "stream",
     "text": [
      " 12%|█████▏                                    | 62/500 [00:02<00:07, 55.20it/s]"
     ]
    },
    {
     "name": "stdout",
     "output_type": "stream",
     "text": [
      "[71, 196, 55]\n",
      "[71, 196, 55]\n",
      "[71, 196, 55]\n",
      "[71, 196, 55]\n",
      "[71, 196, 55]\n",
      "[71, 196, 55]\n",
      "[71, 196, 55]\n",
      "[71, 196, 55]\n",
      "[71, 196, 55]\n",
      "[71, 196, 55]\n",
      "[70, 196, 56]\n",
      "[70, 196, 56]\n",
      "[70, 196, 56]\n"
     ]
    },
    {
     "name": "stderr",
     "output_type": "stream",
     "text": [
      " 15%|██████▎                                   | 75/500 [00:02<00:07, 59.79it/s]"
     ]
    },
    {
     "name": "stdout",
     "output_type": "stream",
     "text": [
      "[70, 196, 56]\n",
      "[70, 196, 56]\n",
      "[71, 195, 56]\n",
      "[71, 195, 56]\n",
      "[71, 195, 56]\n",
      "[71, 195, 56]\n",
      "[71, 195, 56]\n",
      "[71, 195, 56]\n",
      "[71, 195, 56]\n",
      "[71, 195, 56]\n",
      "[71, 195, 56]\n",
      "[71, 195, 56]\n",
      "[71, 195, 56]\n",
      "[70, 195, 57]\n"
     ]
    },
    {
     "name": "stderr",
     "output_type": "stream",
     "text": [
      " 18%|███████▌                                  | 90/500 [00:02<00:06, 64.32it/s]"
     ]
    },
    {
     "name": "stdout",
     "output_type": "stream",
     "text": [
      "[70, 195, 57]\n",
      "[70, 195, 57]\n",
      "[70, 195, 57]\n",
      "[70, 195, 57]\n",
      "[70, 195, 57]\n",
      "[70, 195, 57]\n",
      "[71, 194, 57]\n",
      "[71, 193, 58]\n",
      "[71, 193, 58]\n",
      "[71, 193, 58]\n",
      "[71, 193, 58]\n",
      "[72, 192, 58]\n",
      "[72, 192, 58]\n",
      "[72, 192, 58]\n"
     ]
    },
    {
     "name": "stderr",
     "output_type": "stream",
     "text": [
      " 21%|████████▌                                | 105/500 [00:02<00:05, 68.01it/s]"
     ]
    },
    {
     "name": "stdout",
     "output_type": "stream",
     "text": [
      "[72, 192, 58]\n",
      "[72, 192, 58]\n",
      "[73, 191, 58]\n",
      "[73, 191, 58]\n",
      "[73, 191, 58]\n",
      "[73, 191, 58]\n",
      "[73, 191, 58]\n",
      "[73, 191, 58]\n",
      "[73, 191, 58]\n",
      "[73, 191, 58]\n",
      "[73, 191, 58]\n",
      "[72, 191, 59]\n",
      "[73, 190, 59]\n",
      "[73, 190, 59]\n",
      "[73, 190, 59]\n"
     ]
    },
    {
     "name": "stderr",
     "output_type": "stream",
     "text": [
      " 24%|█████████▊                               | 119/500 [00:03<00:06, 62.89it/s]"
     ]
    },
    {
     "name": "stdout",
     "output_type": "stream",
     "text": [
      "[73, 190, 59]\n",
      "[73, 190, 59]\n",
      "[73, 190, 59]\n",
      "[74, 189, 59]\n",
      "[74, 189, 59]\n",
      "[74, 189, 59]\n",
      "[75, 188, 59]\n",
      "[75, 188, 59]\n",
      "[75, 188, 59]\n",
      "[75, 188, 59]\n",
      "[75, 188, 59]\n",
      "[75, 188, 59]\n"
     ]
    },
    {
     "name": "stderr",
     "output_type": "stream",
     "text": [
      "\r",
      " 25%|██████████▎                              | 126/500 [00:03<00:06, 59.96it/s]"
     ]
    },
    {
     "name": "stdout",
     "output_type": "stream",
     "text": [
      "[75, 188, 59]\n",
      "[75, 188, 59]\n",
      "[75, 188, 59]\n",
      "[75, 188, 59]\n",
      "[76, 187, 59]\n",
      "[76, 187, 59]\n",
      "[76, 187, 59]\n",
      "[76, 187, 59]\n",
      "[76, 187, 59]\n",
      "[76, 187, 59]\n",
      "[76, 187, 59]\n"
     ]
    },
    {
     "name": "stderr",
     "output_type": "stream",
     "text": [
      " 28%|███████████▌                             | 141/500 [00:03<00:05, 59.93it/s]"
     ]
    },
    {
     "name": "stdout",
     "output_type": "stream",
     "text": [
      "[76, 187, 59]\n",
      "[77, 187, 58]\n",
      "[77, 187, 58]\n",
      "[77, 187, 58]\n",
      "[77, 187, 58]\n",
      "[77, 187, 58]\n",
      "[77, 187, 58]\n",
      "[77, 187, 58]\n",
      "[77, 187, 58]\n",
      "[77, 186, 59]\n",
      "[77, 186, 59]\n",
      "[77, 186, 59]\n",
      "[77, 186, 59]\n",
      "[77, 186, 59]\n",
      "[77, 186, 59]\n",
      "[77, 186, 59]\n"
     ]
    },
    {
     "name": "stderr",
     "output_type": "stream",
     "text": [
      " 31%|████████████▊                            | 157/500 [00:03<00:05, 66.82it/s]"
     ]
    },
    {
     "name": "stdout",
     "output_type": "stream",
     "text": [
      "[77, 186, 59]\n",
      "[77, 186, 59]\n",
      "[77, 186, 59]\n",
      "[77, 186, 59]\n",
      "[77, 186, 59]\n",
      "[78, 185, 59]\n",
      "[78, 185, 59]\n",
      "[78, 185, 59]\n",
      "[78, 185, 59]\n",
      "[78, 185, 59]\n",
      "[78, 185, 59]\n",
      "[78, 185, 59]\n",
      "[78, 185, 59]\n",
      "[78, 185, 59]\n",
      "[78, 185, 59]\n",
      "[78, 185, 59]\n"
     ]
    },
    {
     "name": "stderr",
     "output_type": "stream",
     "text": [
      " 35%|██████████████▏                          | 173/500 [00:03<00:04, 70.97it/s]"
     ]
    },
    {
     "name": "stdout",
     "output_type": "stream",
     "text": [
      "[78, 185, 59]\n",
      "[78, 185, 59]\n",
      "[79, 184, 59]\n",
      "[79, 184, 59]\n",
      "[79, 184, 59]\n",
      "[79, 184, 59]\n",
      "[79, 184, 59]\n",
      "[79, 184, 59]\n",
      "[79, 184, 59]\n",
      "[79, 184, 59]\n",
      "[79, 184, 59]\n",
      "[79, 184, 59]\n",
      "[79, 184, 59]\n",
      "[79, 184, 59]\n",
      "[79, 184, 59]\n",
      "[79, 184, 59]\n",
      "[79, 184, 59]\n"
     ]
    },
    {
     "name": "stderr",
     "output_type": "stream",
     "text": [
      " 38%|███████████████▌                         | 190/500 [00:04<00:04, 75.33it/s]"
     ]
    },
    {
     "name": "stdout",
     "output_type": "stream",
     "text": [
      "[79, 184, 59]\n",
      "[79, 184, 59]\n",
      "[79, 184, 59]\n",
      "[79, 184, 59]\n",
      "[79, 184, 59]\n",
      "[79, 184, 59]\n",
      "[80, 183, 59]\n",
      "[80, 183, 59]\n",
      "[80, 183, 59]\n",
      "[80, 183, 59]\n",
      "[80, 183, 59]\n",
      "[80, 183, 59]\n",
      "[80, 183, 59]\n",
      "[80, 183, 59]\n",
      "[80, 183, 59]\n",
      "[80, 183, 59]\n",
      "[80, 183, 59]\n",
      "[80, 183, 59]\n"
     ]
    },
    {
     "name": "stderr",
     "output_type": "stream",
     "text": [
      " 42%|█████████████████▏                       | 209/500 [00:04<00:03, 80.03it/s]"
     ]
    },
    {
     "name": "stdout",
     "output_type": "stream",
     "text": [
      "[80, 183, 59]\n",
      "[80, 183, 59]\n",
      "[80, 183, 59]\n",
      "[80, 183, 59]\n",
      "[81, 182, 59]\n",
      "[81, 182, 59]\n",
      "[81, 182, 59]\n",
      "[81, 182, 59]\n",
      "[81, 182, 59]\n",
      "[81, 182, 59]\n",
      "[81, 182, 59]\n",
      "[81, 182, 59]\n",
      "[81, 182, 59]\n",
      "[81, 182, 59]\n",
      "[81, 182, 59]\n",
      "[81, 182, 59]\n",
      "[81, 182, 59]\n"
     ]
    },
    {
     "name": "stderr",
     "output_type": "stream",
     "text": [
      " 45%|██████████████████▌                      | 227/500 [00:04<00:03, 79.36it/s]"
     ]
    },
    {
     "name": "stdout",
     "output_type": "stream",
     "text": [
      "[81, 182, 59]\n",
      "[81, 182, 59]\n",
      "[82, 182, 58]\n",
      "[82, 182, 58]\n",
      "[82, 182, 58]\n",
      "[81, 182, 59]\n",
      "[81, 182, 59]\n",
      "[81, 182, 59]\n",
      "[82, 181, 59]\n",
      "[83, 180, 59]\n",
      "[83, 180, 59]\n",
      "[83, 180, 59]\n",
      "[83, 180, 59]\n",
      "[83, 180, 59]\n",
      "[83, 180, 59]\n",
      "[82, 180, 60]\n",
      "[82, 180, 60]\n"
     ]
    },
    {
     "name": "stderr",
     "output_type": "stream",
     "text": [
      " 49%|████████████████████                     | 245/500 [00:04<00:03, 82.24it/s]"
     ]
    },
    {
     "name": "stdout",
     "output_type": "stream",
     "text": [
      "[82, 180, 60]\n",
      "[82, 180, 60]\n",
      "[82, 180, 60]\n",
      "[82, 180, 60]\n",
      "[82, 180, 60]\n",
      "[82, 180, 60]\n",
      "[82, 180, 60]\n",
      "[82, 180, 60]\n",
      "[82, 180, 60]\n",
      "[82, 180, 60]\n",
      "[82, 180, 60]\n",
      "[82, 180, 60]\n",
      "[82, 180, 60]\n",
      "[82, 180, 60]\n",
      "[82, 180, 60]\n",
      "[82, 180, 60]\n",
      "[82, 180, 60]\n",
      "[82, 180, 60]\n",
      "[82, 180, 60]\n"
     ]
    },
    {
     "name": "stderr",
     "output_type": "stream",
     "text": [
      " 53%|█████████████████████▌                   | 263/500 [00:05<00:02, 84.04it/s]"
     ]
    },
    {
     "name": "stdout",
     "output_type": "stream",
     "text": [
      "[82, 180, 60]\n",
      "[82, 180, 60]\n",
      "[82, 180, 60]\n",
      "[82, 180, 60]\n",
      "[82, 180, 60]\n",
      "[82, 180, 60]\n",
      "[82, 180, 60]\n",
      "[82, 180, 60]\n",
      "[82, 180, 60]\n",
      "[82, 180, 60]\n",
      "[82, 180, 60]\n",
      "[82, 180, 60]\n",
      "[82, 180, 60]\n",
      "[82, 180, 60]\n",
      "[82, 180, 60]\n",
      "[82, 180, 60]\n",
      "[82, 180, 60]\n",
      "[82, 180, 60]\n",
      "[82, 180, 60]\n"
     ]
    },
    {
     "name": "stderr",
     "output_type": "stream",
     "text": [
      " 56%|███████████████████████                  | 281/500 [00:05<00:02, 84.56it/s]"
     ]
    },
    {
     "name": "stdout",
     "output_type": "stream",
     "text": [
      "[82, 180, 60]\n",
      "[82, 180, 60]\n",
      "[82, 180, 60]\n",
      "[82, 180, 60]\n",
      "[82, 180, 60]\n",
      "[82, 180, 60]\n",
      "[82, 180, 60]\n",
      "[82, 180, 60]\n",
      "[82, 180, 60]\n",
      "[82, 180, 60]\n",
      "[82, 180, 60]\n",
      "[83, 179, 60]\n",
      "[83, 179, 60]\n",
      "[83, 179, 60]\n",
      "[83, 179, 60]\n",
      "[83, 179, 60]\n",
      "[83, 179, 60]\n"
     ]
    },
    {
     "name": "stderr",
     "output_type": "stream",
     "text": [
      " 60%|████████████████████████▌                | 299/500 [00:05<00:02, 83.87it/s]"
     ]
    },
    {
     "name": "stdout",
     "output_type": "stream",
     "text": [
      "[83, 179, 60]\n",
      "[83, 179, 60]\n",
      "[83, 179, 60]\n",
      "[83, 179, 60]\n",
      "[84, 178, 60]\n",
      "[84, 178, 60]\n",
      "[84, 178, 60]\n",
      "[84, 178, 60]\n",
      "[84, 178, 60]\n",
      "[84, 178, 60]\n",
      "[84, 178, 60]\n",
      "[84, 178, 60]\n",
      "[84, 178, 60]\n",
      "[84, 178, 60]\n",
      "[84, 178, 60]\n",
      "[84, 178, 60]\n",
      "[84, 178, 60]\n"
     ]
    },
    {
     "name": "stderr",
     "output_type": "stream",
     "text": [
      " 63%|█████████████████████████▉               | 317/500 [00:05<00:02, 82.30it/s]"
     ]
    },
    {
     "name": "stdout",
     "output_type": "stream",
     "text": [
      "[85, 178, 59]\n",
      "[85, 178, 59]\n",
      "[85, 178, 59]\n",
      "[85, 178, 59]\n",
      "[85, 178, 59]\n",
      "[85, 178, 59]\n",
      "[85, 178, 59]\n",
      "[85, 178, 59]\n",
      "[85, 178, 59]\n",
      "[85, 178, 59]\n",
      "[86, 177, 59]\n",
      "[86, 177, 59]\n",
      "[86, 177, 59]\n",
      "[86, 177, 59]\n",
      "[86, 177, 59]\n",
      "[86, 177, 59]\n",
      "[86, 177, 59]\n"
     ]
    },
    {
     "name": "stderr",
     "output_type": "stream",
     "text": [
      " 67%|███████████████████████████▍             | 335/500 [00:05<00:02, 82.29it/s]"
     ]
    },
    {
     "name": "stdout",
     "output_type": "stream",
     "text": [
      "[86, 177, 59]\n",
      "[86, 177, 59]\n",
      "[86, 177, 59]\n",
      "[86, 177, 59]\n",
      "[86, 177, 59]\n",
      "[86, 177, 59]\n",
      "[86, 177, 59]\n",
      "[86, 177, 59]\n",
      "[86, 177, 59]\n",
      "[86, 177, 59]\n",
      "[86, 177, 59]\n",
      "[86, 177, 59]\n",
      "[86, 177, 59]\n",
      "[86, 177, 59]\n",
      "[86, 177, 59]\n",
      "[86, 177, 59]\n",
      "[86, 177, 59]\n"
     ]
    },
    {
     "name": "stderr",
     "output_type": "stream",
     "text": [
      " 71%|████████████████████████████▉            | 353/500 [00:06<00:01, 81.52it/s]"
     ]
    },
    {
     "name": "stdout",
     "output_type": "stream",
     "text": [
      "[86, 177, 59]\n",
      "[86, 177, 59]\n",
      "[86, 177, 59]\n",
      "[86, 177, 59]\n",
      "[86, 177, 59]\n",
      "[86, 177, 59]\n",
      "[86, 177, 59]\n",
      "[86, 177, 59]\n",
      "[86, 177, 59]\n",
      "[86, 177, 59]\n",
      "[86, 177, 59]\n",
      "[86, 177, 59]\n",
      "[86, 177, 59]\n",
      "[86, 177, 59]\n",
      "[86, 177, 59]\n",
      "[86, 177, 59]\n",
      "[86, 177, 59]\n",
      "[86, 177, 59]\n"
     ]
    },
    {
     "name": "stderr",
     "output_type": "stream",
     "text": [
      " 74%|██████████████████████████████▌          | 372/500 [00:06<00:01, 85.05it/s]"
     ]
    },
    {
     "name": "stdout",
     "output_type": "stream",
     "text": [
      "[86, 177, 59]\n",
      "[87, 176, 59]\n",
      "[87, 176, 59]\n",
      "[87, 176, 59]\n",
      "[87, 176, 59]\n",
      "[87, 176, 59]\n",
      "[87, 176, 59]\n",
      "[87, 176, 59]\n",
      "[87, 176, 59]\n",
      "[87, 176, 59]\n",
      "[88, 176, 58]\n",
      "[88, 176, 58]\n",
      "[89, 176, 57]\n",
      "[89, 176, 57]\n",
      "[89, 176, 57]\n",
      "[89, 176, 57]\n",
      "[89, 176, 57]\n",
      "[90, 176, 56]\n"
     ]
    },
    {
     "name": "stderr",
     "output_type": "stream",
     "text": [
      " 78%|████████████████████████████████         | 391/500 [00:06<00:01, 87.28it/s]"
     ]
    },
    {
     "name": "stdout",
     "output_type": "stream",
     "text": [
      "[90, 176, 56]\n",
      "[90, 176, 56]\n",
      "[90, 176, 56]\n",
      "[90, 176, 56]\n",
      "[91, 175, 56]\n",
      "[91, 175, 56]\n",
      "[91, 175, 56]\n",
      "[91, 175, 56]\n",
      "[91, 175, 56]\n",
      "[91, 175, 56]\n",
      "[91, 175, 56]\n",
      "[91, 175, 56]\n",
      "[91, 175, 56]\n",
      "[91, 175, 56]\n",
      "[91, 175, 56]\n",
      "[91, 175, 56]\n",
      "[91, 175, 56]\n",
      "[91, 175, 56]\n"
     ]
    },
    {
     "name": "stderr",
     "output_type": "stream",
     "text": [
      " 82%|█████████████████████████████████▌       | 410/500 [00:06<00:01, 89.44it/s]"
     ]
    },
    {
     "name": "stdout",
     "output_type": "stream",
     "text": [
      "[91, 175, 56]\n",
      "[91, 175, 56]\n",
      "[90, 175, 57]\n",
      "[90, 175, 57]\n",
      "[90, 175, 57]\n",
      "[90, 175, 57]\n",
      "[90, 175, 57]\n",
      "[90, 175, 57]\n",
      "[90, 175, 57]\n",
      "[90, 175, 57]\n",
      "[91, 174, 57]\n",
      "[91, 174, 57]\n",
      "[91, 174, 57]\n",
      "[91, 174, 57]\n",
      "[91, 174, 57]\n",
      "[91, 174, 57]\n",
      "[91, 174, 57]\n",
      "[91, 174, 57]\n",
      "[91, 174, 57]\n"
     ]
    },
    {
     "name": "stderr",
     "output_type": "stream",
     "text": [
      " 86%|███████████████████████████████████▎     | 430/500 [00:06<00:00, 92.63it/s]"
     ]
    },
    {
     "name": "stdout",
     "output_type": "stream",
     "text": [
      "[91, 174, 57]\n",
      "[90, 174, 58]\n",
      "[91, 174, 57]\n",
      "[91, 174, 57]\n",
      "[91, 174, 57]\n",
      "[91, 174, 57]\n",
      "[91, 174, 57]\n",
      "[91, 174, 57]\n",
      "[91, 174, 57]\n",
      "[91, 174, 57]\n",
      "[92, 174, 56]\n",
      "[92, 174, 56]\n",
      "[93, 173, 56]\n",
      "[93, 173, 56]\n",
      "[93, 173, 56]\n",
      "[94, 172, 56]\n",
      "[94, 172, 56]\n",
      "[94, 172, 56]\n",
      "[94, 172, 56]\n",
      "[94, 172, 56]\n"
     ]
    },
    {
     "name": "stderr",
     "output_type": "stream",
     "text": [
      " 90%|████████████████████████████████████▉    | 450/500 [00:07<00:00, 91.61it/s]"
     ]
    },
    {
     "name": "stdout",
     "output_type": "stream",
     "text": [
      "[94, 172, 56]\n",
      "[94, 172, 56]\n",
      "[94, 172, 56]\n",
      "[94, 172, 56]\n",
      "[94, 172, 56]\n",
      "[94, 172, 56]\n",
      "[94, 172, 56]\n",
      "[94, 172, 56]\n",
      "[94, 172, 56]\n",
      "[94, 172, 56]\n",
      "[94, 172, 56]\n",
      "[94, 172, 56]\n",
      "[94, 172, 56]\n",
      "[94, 172, 56]\n",
      "[94, 172, 56]\n",
      "[94, 172, 56]\n",
      "[94, 172, 56]\n",
      "[94, 172, 56]\n",
      "[94, 172, 56]\n"
     ]
    },
    {
     "name": "stderr",
     "output_type": "stream",
     "text": [
      " 94%|██████████████████████████████████████▌  | 470/500 [00:07<00:00, 91.94it/s]"
     ]
    },
    {
     "name": "stdout",
     "output_type": "stream",
     "text": [
      "[94, 172, 56]\n",
      "[94, 172, 56]\n",
      "[94, 172, 56]\n",
      "[94, 172, 56]\n",
      "[94, 172, 56]\n",
      "[94, 172, 56]\n",
      "[94, 172, 56]\n",
      "[94, 172, 56]\n",
      "[94, 172, 56]\n",
      "[94, 172, 56]\n",
      "[95, 171, 56]\n",
      "[95, 171, 56]\n",
      "[95, 171, 56]\n",
      "[95, 171, 56]\n",
      "[95, 171, 56]\n",
      "[95, 171, 56]\n",
      "[95, 171, 56]\n",
      "[95, 171, 56]\n",
      "[96, 170, 56]\n"
     ]
    },
    {
     "name": "stderr",
     "output_type": "stream",
     "text": [
      "\r",
      " 96%|███████████████████████████████████████▎ | 480/500 [00:07<00:00, 87.55it/s]"
     ]
    },
    {
     "name": "stdout",
     "output_type": "stream",
     "text": [
      "[96, 170, 56]\n",
      "[96, 170, 56]\n",
      "[96, 170, 56]\n",
      "[96, 170, 56]\n",
      "[96, 170, 56]\n",
      "[96, 170, 56]\n",
      "[96, 170, 56]\n",
      "[96, 170, 56]\n",
      "[96, 170, 56]\n",
      "[97, 169, 56]\n",
      "[97, 169, 56]\n",
      "[98, 168, 56]\n",
      "[98, 168, 56]\n",
      "[99, 167, 56]\n",
      "[100, 167, 55]\n",
      "[100, 167, 55]\n",
      "[100, 167, 55]\n",
      "[100, 167, 55]\n"
     ]
    },
    {
     "name": "stderr",
     "output_type": "stream",
     "text": [
      "100%|█████████████████████████████████████████| 500/500 [00:07<00:00, 64.14it/s]"
     ]
    },
    {
     "name": "stdout",
     "output_type": "stream",
     "text": [
      "[100, 167, 55]\n",
      "[101, 167, 54]\n",
      "[101, 167, 54]\n",
      "[102, 166, 54]\n",
      "[102, 166, 54]\n",
      "[102, 166, 54]\n",
      "[102, 166, 54]\n",
      "[102, 166, 54]\n",
      "[102, 166, 54]\n",
      "[102, 166, 54]\n",
      "[102, 166, 54]\n",
      "[102, 166, 54]\n"
     ]
    },
    {
     "name": "stderr",
     "output_type": "stream",
     "text": [
      "\n"
     ]
    }
   ],
   "source": [
    "if os.path.exists(simulation.output_file):\n",
    "    os.remove(simulation.output_file)\n",
    "\n",
    "simulation.run(n_steps=5000, timestep=1e-3*readdy.units.nanosecond)"
   ]
  },
  {
   "cell_type": "code",
   "execution_count": 7,
   "id": "07795ff8",
   "metadata": {},
   "outputs": [],
   "source": [
    "traj = readdy.Trajectory(simulation.output_file)\n",
    "time, counts = traj.read_observable_number_of_particles()"
   ]
  },
  {
   "cell_type": "code",
   "execution_count": 8,
   "id": "e3e5ac05",
   "metadata": {},
   "outputs": [],
   "source": [
    "traj.convert_to_xyz(particle_radii={'A': 0.3, 'B':0.3, 'C':0.3, 'R':0.3, 'L':0.3, 'Act':0.3})"
   ]
  },
  {
   "cell_type": "code",
   "execution_count": 9,
   "id": "793fc5d4",
   "metadata": {},
   "outputs": [
    {
     "name": "stdout",
     "output_type": "stream",
     "text": [
      "/usr/local/lib/vmd/vmd_LINUXAMD64: /usr/lib/x86_64-linux-gnu/libGL.so.1: no version information available (required by /usr/local/lib/vmd/vmd_LINUXAMD64)\n",
      "Info) VMD for LINUXAMD64, version 1.9.3 (November 30, 2016)\n",
      "Info) http://www.ks.uiuc.edu/Research/vmd/                         \n",
      "Info) Email questions and bug reports to vmd@ks.uiuc.edu           \n",
      "Info) Please include this reference in published work using VMD:   \n",
      "Info)    Humphrey, W., Dalke, A. and Schulten, K., `VMD - Visual   \n",
      "Info)    Molecular Dynamics', J. Molec. Graphics 1996, 14.1, 33-38.\n",
      "Info) -------------------------------------------------------------\n",
      "Info) Multithreading available, 4 CPUs detected.\n",
      "Info)   CPU features: SSE2 AVX AVX2 FMA \n",
      "Info) Free system memory: 11GB (72%)\n",
      "Info) No CUDA accelerator devices available.\n",
      "Warning) Detected X11 'Composite' extension: if incorrect display occurs\n",
      "Warning) try disabling this X server option.  Most OpenGL drivers\n",
      "Warning) disable stereoscopic display when 'Composite' is enabled.\n",
      "Info) OpenGL renderer: Mesa Intel(R) HD Graphics 620 (KBL GT2)\n",
      "Info)   Features: STENCIL MSAA(4) MDE CVA MTX NPOT PP PS GLSL(OVFS) \n",
      "Info)   Full GLSL rendering mode is available.\n",
      "Info)   Textures: 2-D (16384x16384), 3-D (512x512x512), Multitexture (8)\n",
      "Info) Dynamically loaded 2 plugins in directory:\n",
      "Info) /usr/local/lib/vmd/plugins/LINUXAMD64/molfile\n",
      "ERROR) No molecules loaded.\n",
      "Info) Using plugin xyz for structure file out.h5.xyz\n",
      "Info) Using plugin xyz for coordinates from file out.h5.xyz\n",
      "Info) Determining bond structure from distance search ...\n",
      "ERROR) MolAtom 250: Exceeded maximum number of bonds (12).\n",
      "ERROR) MolAtom 65: Exceeded maximum number of bonds (12).\n",
      "ERROR) MolAtom 60: Exceeded maximum number of bonds (12).\n",
      "ERROR) MolAtom 65: Exceeded maximum number of bonds (12).\n",
      "ERROR) MolAtom 289: Exceeded maximum number of bonds (12).\n",
      "ERROR) MolAtom 36: Exceeded maximum number of bonds (12).\n",
      "ERROR) MolAtom 60: Exceeded maximum number of bonds (12).\n",
      "ERROR) MolAtom 252: Exceeded maximum number of bonds (12).\n",
      "ERROR) MolAtom 43: Exceeded maximum number of bonds (12).\n",
      "ERROR) MolAtom 63: Exceeded maximum number of bonds (12).\n",
      "ERROR) MolAtom 76: Exceeded maximum number of bonds (12).\n",
      "ERROR) MolAtom 81: Exceeded maximum number of bonds (12).\n",
      "ERROR) MolAtom 96: Exceeded maximum number of bonds (12).\n",
      "ERROR) MolAtom 109: Exceeded maximum number of bonds (12).\n",
      "ERROR) MolAtom 120: Exceeded maximum number of bonds (12).\n",
      "ERROR) MolAtom 127: Exceeded maximum number of bonds (12).\n",
      "ERROR) MolAtom 130: Exceeded maximum number of bonds (12).\n",
      "ERROR) MolAtom 194: Exceeded maximum number of bonds (12).\n",
      "ERROR) MolAtom 271: Exceeded maximum number of bonds (12).\n",
      "ERROR) MolAtom 302: Exceeded maximum number of bonds (12).\n",
      "ERROR) MolAtom 127: Exceeded maximum number of bonds (12).\n",
      "ERROR) MolAtom 130: Exceeded maximum number of bonds (12).\n",
      "ERROR) MolAtom 194: Exceeded maximum number of bonds (12).\n",
      "ERROR) MolAtom 271: Exceeded maximum number of bonds (12).\n",
      "ERROR) MolAtom 302: Exceeded maximum number of bonds (12).\n",
      "ERROR) BaseMolecule: Excessive bonding errors encountered, perhaps atom coordinates are in the wrong units?\n",
      "ERROR) BaseMolecule: Silencing bonding error messages.\n",
      "Info) Finished with coordinate file out.h5.xyz.\n",
      "Info) Analyzing structure ...\n",
      "Info)    Atoms: 381\n",
      "Info)    Bonds: 1754\n",
      "Info)    Angles: 0  Dihedrals: 0  Impropers: 0  Cross-terms: 0\n",
      "Info)    Bondtypes: 0  Angletypes: 0  Dihedraltypes: 0  Impropertypes: 0\n",
      "Info)    Residues: 39\n",
      "Info)    Waters: 0\n",
      "Info)    Segments: 1\n",
      "Info)    Fragments: 39   Protein: 0   Nucleic: 0\n",
      "0\n",
      "vmd > Info) VMD for LINUXAMD64, version 1.9.3 (November 30, 2016)\n",
      "Info) Exiting normally.\n"
     ]
    }
   ],
   "source": [
    "!vmd -e out.h5.xyz.tcl"
   ]
  },
  {
   "cell_type": "code",
   "execution_count": null,
   "id": "27d22091",
   "metadata": {},
   "outputs": [],
   "source": []
  },
  {
   "cell_type": "code",
   "execution_count": 10,
   "id": "6965d551",
   "metadata": {},
   "outputs": [
    {
     "data": {
      "image/png": "[encoded data removed]",
      "text/plain": [
       "<Figure size 2000x1200 with 3 Axes>"
      ]
     },
     "metadata": {},
     "output_type": "display_data"
    }
   ],
   "source": [
    "fig, axs = plt.subplots(1, 3, figsize=(20,12))\n",
    "axs[0].plot(time[::20]*1e-3, counts[::20,0], \"*-\")\n",
    "axs[0].set_title('Ligands Count')\n",
    "axs[1].plot(time[::20]*1e-3, counts[0::20,1], \"*-\")\n",
    "axs[1].set_title('Unactivated Proteins')\n",
    "axs[2].plot(time[::20]*1e-3, counts[0::20,2], \"*-\")\n",
    "axs[2].set_title('Activated Proteins')\n",
    "plt.savefig('ligand docking.png')"
   ]
  },
  {
   "cell_type": "code",
   "execution_count": 11,
   "id": "324fe4e4",
   "metadata": {},
   "outputs": [
    {
     "data": {
      "text/plain": [
       "array([[-1.5],\n",
       "       [-1.5]])"
      ]
     },
     "execution_count": 11,
     "metadata": {},
     "output_type": "execute_result"
    }
   ],
   "source": [
    " -1.5*np.ones((2, 1))"
   ]
  },
  {
   "cell_type": "code",
   "execution_count": 12,
   "id": "81db30e5",
   "metadata": {},
   "outputs": [
    {
     "data": {
      "text/plain": [
       "array([[120, 201,   1],\n",
       "       [109, 201,  12],\n",
       "       [107, 201,  14],\n",
       "       ...,\n",
       "       [102, 166,  54],\n",
       "       [102, 166,  54],\n",
       "       [102, 166,  54]], dtype=uint64)"
      ]
     },
     "execution_count": 12,
     "metadata": {},
     "output_type": "execute_result"
    }
   ],
   "source": [
    "counts"
   ]
  },
  {
   "cell_type": "code",
   "execution_count": null,
   "id": "5fc34c4c",
   "metadata": {},
   "outputs": [],
   "source": []
  }
 ],
 "metadata": {
  "kernelspec": {
   "display_name": "Python 3 (ipykernel)",
   "language": "python",
   "name": "python3"
  },
  "language_info": {
   "codemirror_mode": {
    "name": "ipython",
    "version": 3
   },
   "file_extension": ".py",
   "mimetype": "text/x-python",
   "name": "python",
   "nbconvert_exporter": "python",
   "pygments_lexer": "ipython3",
   "version": "3.9.15"
  }
 },
 "nbformat": 4,
 "nbformat_minor": 5
}
